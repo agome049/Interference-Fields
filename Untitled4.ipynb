{
 "cells": [
  {
   "cell_type": "code",
   "execution_count": 15,
   "metadata": {},
   "outputs": [],
   "source": [
    "import pygame"
   ]
  },
  {
   "cell_type": "code",
   "execution_count": 17,
   "metadata": {},
   "outputs": [
    {
     "ename": "SystemExit",
     "evalue": "",
     "output_type": "error",
     "traceback": [
      "An exception has occurred, use %tb to see the full traceback.\n",
      "\u001b[1;31mSystemExit\u001b[0m\n"
     ]
    }
   ],
   "source": [
    "import pygame, sys\n",
    "from pygame.locals import *\n",
    "# set up pygame\n",
    "pygame.init()\n",
    "# set up the window\n",
    "windowSurface = pygame.display.set_mode((500, 400), 0, 32)\n",
    "pygame.display.set_caption('Hello world!')\n",
    "# set up the colors\n",
    "BLACK = (0, 0, 0)\n",
    "WHITE = (255, 255, 255)\n",
    "RED = (255, 0, 0)\n",
    "GREEN = (0, 255, 0)\n",
    "BLUE = (0, 0, 255)\n",
    "# set up fonts\n",
    "basicFont = pygame.font.SysFont(None, 48)\n",
    "# set up the text\n",
    "text = basicFont.render('Hello world!', True, WHITE, BLUE)\n",
    "textRect = text.get_rect()\n",
    "textRect.centerx = windowSurface.get_rect().centerx\n",
    "textRect.centery = windowSurface.get_rect().centery\n",
    "# draw the white background onto the surface\n",
    "windowSurface.fill(WHITE)\n",
    "# draw a green polygon onto the surface\n",
    "pygame.draw.polygon(windowSurface, GREEN, ((146, 0), (291, 106), (236, 277), (56, 277), (0, 106)))\n",
    "\n",
    "# draw some blue lines onto the surface\n",
    "pygame.draw.line(windowSurface, BLUE, (60, 60), (120, 60), 4)\n",
    "pygame.draw.line(windowSurface, BLUE, (120, 60), (60, 120))\n",
    "pygame.draw.line(windowSurface, BLUE, (60, 120), (120, 120), 4)\n",
    "\n",
    "# draw a blue circle onto the surface\n",
    "pygame.draw.circle(windowSurface, BLUE, (300, 50), 20, 0)\n",
    "# draw a red ellipse onto the surface\n",
    "pygame.draw.ellipse(windowSurface, RED, (300, 250, 40, 80), 1)\n",
    "# draw the text's background rectangle onto the surface\n",
    "pygame.draw.rect(windowSurface, RED, (textRect.left - 20, textRect.top - 20, textRect.width + 40, textRect.height + 40))\n",
    "# get a pixel array of the surface\n",
    "pixArray = pygame.PixelArray(windowSurface)\n",
    "pixArray[480][380] = BLACK\n",
    "del pixArray\n",
    "\n",
    "# draw the text onto the surface\n",
    "windowSurface.blit(text, textRect)\n",
    "\n",
    "# draw the window onto the screen\n",
    "pygame.display.update()\n",
    "\n",
    "# run the game loop\n",
    "while True:\n",
    "    for event in pygame.event.get():\n",
    "        if event.type == QUIT:\n",
    "            pygame.quit()\n",
    "            sys.exit()\n",
    "\n"
   ]
  },
  {
   "cell_type": "code",
   "execution_count": 5,
   "metadata": {},
   "outputs": [
    {
     "name": "stdout",
     "output_type": "stream",
     "text": [
      "<rect(300, 80, 10, 10)>\n"
     ]
    },
    {
     "ename": "SystemExit",
     "evalue": "",
     "output_type": "error",
     "traceback": [
      "An exception has occurred, use %tb to see the full traceback.\n",
      "\u001b[1;31mSystemExit\u001b[0m\n"
     ]
    }
   ],
   "source": [
    "import pygame, sys, time\n",
    "from pygame.locals import *\n",
    "\n",
    "# set up pygame\n",
    "pygame.init()\n",
    "\n",
    "# set up the window\n",
    "WINDOWWIDTH = 400\n",
    "WINDOWHEIGHT = 400\n",
    "windowSurface = pygame.display.set_mode((WINDOWWIDTH, WINDOWHEIGHT), 0, 32)\n",
    "pygame.display.set_caption('Animation')\n",
    "\n",
    "# set up direction variables\n",
    "DOWNLEFT = 1\n",
    "DOWNRIGHT = 3\n",
    "UPLEFT = 7\n",
    "UPRIGHT = 9\n",
    "\n",
    "MOVESPEED = 8\n",
    "\n",
    "# set up the colors\n",
    "BLACK = (0, 0, 0)\n",
    "RED = (255, 0, 0)\n",
    "GREEN = (0, 255, 0)\n",
    "BLUE = (0, 0, 255)\n",
    "\n",
    "# set up the block data structure\n",
    "b1 = {'rect':pygame.Rect(300, 80, 10, 10), 'color':RED, 'dir':UPRIGHT}\n",
    "#b2 = {'rect':pygame.Rect(200, 200, 20, 20), 'color':GREEN, 'dir':UPLEFT}\n",
    "#b3 = {'rect':pygame.Rect(100, 150, 60, 60), 'color':BLUE, 'dir':DOWNLEFT}\n",
    "blocks = [b1]\n",
    "print(b1['rect'])\n",
    "# run the game loop\n",
    "while True:\n",
    "    # check for the QUIT event\n",
    "    for event in pygame.event.get():\n",
    "        if event.type == QUIT:\n",
    "            pygame.quit()\n",
    "            sys.exit()\n",
    "            \n",
    "    # draw the black background onto the surface\n",
    "    #print(windowSurface.get_at([100,100]))\n",
    "    windowSurface.fill(BLACK)\n",
    "    for b in blocks:\n",
    "        # move the block data structure\n",
    "        if b['dir'] == DOWNLEFT:\n",
    "            b['rect'].left -= MOVESPEED\n",
    "            b['rect'].top += MOVESPEED\n",
    "        if b['dir'] == DOWNRIGHT:\n",
    "            b['rect'].left += MOVESPEED\n",
    "            b['rect'].top += MOVESPEED\n",
    "        if b['dir'] == UPLEFT:\n",
    "            b['rect'].left -= MOVESPEED\n",
    "            b['rect'].top -= MOVESPEED\n",
    "        if b['dir'] == UPRIGHT:\n",
    "            b['rect'].left += MOVESPEED\n",
    "            b['rect'].top -= MOVESPEED\n",
    "\n",
    "        # check if the block has moved out of the window\n",
    "        if b['rect'].top < 0:\n",
    "            # block has moved past the top\n",
    "            if b['dir'] == UPLEFT:\n",
    "                b['dir'] = DOWNLEFT\n",
    "            if b['dir'] == UPRIGHT:\n",
    "                b['dir'] = DOWNRIGHT\n",
    "        if b['rect'].bottom > WINDOWHEIGHT:\n",
    "            # block has moved past the bottom\n",
    "            if b['dir'] == DOWNLEFT:\n",
    "                b['dir'] = UPLEFT\n",
    "            if b['dir'] == DOWNRIGHT:\n",
    "                b['dir'] = UPRIGHT\n",
    "        if b['rect'].left < 0:\n",
    "            # block has moved past the left side\n",
    "            if b['dir'] == DOWNLEFT:\n",
    "                b['dir'] = DOWNRIGHT\n",
    "            if b['dir'] == UPLEFT:\n",
    "                b['dir'] = UPRIGHT\n",
    "        if b['rect'].right > WINDOWWIDTH:\n",
    "            # block has moved past the right side\n",
    "            if b['dir'] == DOWNRIGHT:\n",
    "                b['dir'] = DOWNLEFT\n",
    "            if b['dir'] == UPRIGHT:\n",
    "                b['dir'] = UPLEFT\n",
    "        # draw the block onto the surface\n",
    "        pygame.draw.rect(windowSurface, b['color'], b['rect'])\n",
    "    # draw the window onto the screen\n",
    "    pygame.display.update()\n",
    "    time.sleep(0.02)"
   ]
  },
  {
   "cell_type": "code",
   "execution_count": null,
   "metadata": {
    "collapsed": true
   },
   "outputs": [],
   "source": []
  }
 ],
 "metadata": {
  "kernelspec": {
   "display_name": "Python 2",
   "language": "python",
   "name": "python2"
  },
  "language_info": {
   "codemirror_mode": {
    "name": "ipython",
    "version": 2
   },
   "file_extension": ".py",
   "mimetype": "text/x-python",
   "name": "python",
   "nbconvert_exporter": "python",
   "pygments_lexer": "ipython2",
   "version": "2.7.13"
  }
 },
 "nbformat": 4,
 "nbformat_minor": 2
}
